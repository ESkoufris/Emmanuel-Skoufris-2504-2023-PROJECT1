{
 "cells": [
  {
   "cell_type": "markdown",
   "metadata": {},
   "source": [
    "# MATH2504 Project 1 - 2023"
   ]
  },
  {
   "cell_type": "markdown",
   "metadata": {},
   "source": [
    "## Emmanuel Skoufris - 46388078 "
   ]
  },
  {
   "cell_type": "markdown",
   "metadata": {},
   "source": [
    "GitHub repository for this project: https://github.com/ESkoufris/Emmanuel-Skoufris-2504-2023-PROJECT1.git"
   ]
  },
  {
   "cell_type": "markdown",
   "metadata": {},
   "source": [
    "### Tests"
   ]
  },
  {
   "cell_type": "code",
   "execution_count": 1,
   "metadata": {},
   "outputs": [
    {
     "name": "stderr",
     "output_type": "stream",
     "text": [
      "\u001b[32m\u001b[1m  Activating\u001b[22m\u001b[39m project at `c:\\Users\\skouf\\Documents\\2023\\Semester 2\\MATH2504\\Assessment\\Project1\\Emmanuel-Skoufris-2504-2023-PROJECT1`"
     ]
    },
    {
     "name": "stdout",
     "output_type": "stream",
     "text": [
      "10\t25\t35\t\n"
     ]
    },
    {
     "name": "stderr",
     "output_type": "stream",
     "text": [
      "\n"
     ]
    },
    {
     "name": "stdout",
     "output_type": "stream",
     "text": [
      "(i, value) = (10, \"kbwcr\")\n",
      "(i, value) = (20, \"dcsha\")\n",
      "(i, value) = (30, \"oxgil\")\n",
      "(i, value) = (40, \"xteol\")\n",
      "(i, value) = (50, \"amqcl\")\n",
      "(i, value) = (60, \"olqwn\")\n",
      "(i, value) = (70, \"tdcjf\")\n",
      "(i, value) = (80, \"dxksw\")\n",
      "(i, value) = (90, \"yvzkb\")\n",
      "(i, value) = (100, \"qbimw\")\n"
     ]
    },
    {
     "name": "stdout",
     "output_type": "stream",
     "text": [
      "l = MutableLinkedList{String}(amqcl, dcsha, dxksw, kbwcr, olqwn, oxgil, qbimw, tdcjf, xteol, yvzkb)\n",
      "d[50] = DataStructures.ListNode{String}(amqcl)\n",
      "d[90] = DataStructures.ListNode{String}(yvzkb)\n",
      "get_element(l, d, 50) = \"amqcl\"\n",
      "l = MutableLinkedList{String}(dcsha, dxksw, kbwcr, olqwn, oxgil, qbimw, tdcjf, xteol, yvzkb)\n",
      "length(l) = 9\n",
      "get_element(l, d, 50) = nothing\n",
      "get_next_element(l, d, 90) = nothing\n",
      "get_element(l, d, 40) = \"xteol\"\n",
      "get_next_element(l, d, 40) = \"yvzkb\""
     ]
    },
    {
     "name": "stdout",
     "output_type": "stream",
     "text": [
      "\n"
     ]
    },
    {
     "name": "stderr",
     "output_type": "stream",
     "text": [
      "\u001b[32m\u001b[1m  Activating\u001b[22m\u001b[39m project at `c:\\Users\\skouf\\Documents\\2023\\Semester 2\\MATH2504\\Assessment\\Project1\\Emmanuel-Skoufris-2504-2023-PROJECT1`\n"
     ]
    }
   ],
   "source": [
    "using Pkg\n",
    "Pkg.activate(\".\")\n",
    "\n",
    "include(\"poly_factorization_project.jl\")"
   ]
  },
  {
   "cell_type": "code",
   "execution_count": 3,
   "metadata": {},
   "outputs": [],
   "source": [
    "\n",
    "include(\"test/runtests.jl\")\n",
    "\n",
    "#= \n",
    "####\n",
    "# Execute unit tests for integers\n",
    "###\n",
    "include(\"test/integers_test.jl\")\n",
    "test_euclid_ints()\n",
    "test_ext_euclid_ints()\n",
    "\n",
    "####\n",
    "# Execute unit tests for polynomials\n",
    "####\n",
    "include(\"test/polynomials_test.jl\")\n",
    "prod_test_poly()\n",
    "prod_derivative_test_poly()\n",
    "ext_euclid_test_poly()\n",
    "division_test_poly()\n",
    "\n",
    "####\n",
    "# Execute unit tests for polynomial factorization\n",
    "####\n",
    "include(\"test/factorization_test.jl\")\n",
    "factor_test_poly() =#"
   ]
  },
  {
   "cell_type": "markdown",
   "metadata": {},
   "source": [
    "## Task 1"
   ]
  },
  {
   "cell_type": "markdown",
   "metadata": {},
   "source": [
    "### Example script 2"
   ]
  },
  {
   "cell_type": "markdown",
   "metadata": {},
   "source": [
    "### Pretty printing "
   ]
  },
  {
   "cell_type": "markdown",
   "metadata": {},
   "source": [
    "I created a 'superscript' function that prints a number in superscript using Unicode."
   ]
  },
  {
   "cell_type": "code",
   "execution_count": null,
   "metadata": {},
   "outputs": [],
   "source": [
    "function superscript(n::Int)\n",
    "\n",
    "    digit_to_unicode = Dict(\n",
    "        '0' => 0x2070,\n",
    "        '1' => 0x00B9,\n",
    "        '2' => 0x00B2,\n",
    "        '3' => 0x00B3,\n",
    "        '4' => 0x2074,\n",
    "        '5' => 0x2075,\n",
    "        '6' => 0x2076,\n",
    "        '7' => 0x2077,\n",
    "        '8' => 0x2078,\n",
    "        '9' => 0x2079 \n",
    "    )\n",
    "\n",
    "    n_str = string(n)\n",
    "\n",
    "    unicode_str = \"\"\n",
    "\n",
    "    for i in n_str\n",
    "        unicode_digit = Char(digit_to_unicode[i])\n",
    "        unicode_str *= unicode_digit\n",
    "    end\n",
    "\n",
    "    return unicode_str\n",
    "end"
   ]
  },
  {
   "cell_type": "markdown",
   "metadata": {},
   "source": [
    "I then altered the show function for individual polynomial terms. "
   ]
  },
  {
   "cell_type": "code",
   "execution_count": null,
   "metadata": {},
   "outputs": [],
   "source": [
    "function show(io::IO, t::Term)  \n",
    "\n",
    "    iszero(t.coeff) && return print(io,\"0\")\n",
    "    iszero(t.degree) && return print(io,t.coeff)\n",
    "\n",
    "    if abs(t.coeff) == 1\n",
    "        print(io, t.coeff == 1 ? \"x\" : \"-x\", t.degree == 1 ? \"\" : superscript(t.degree)) \n",
    "    else \n",
    "        print(io, \"$(t.coeff)x\", t.degree == 1 ? \"\" : superscript(t.degree))\n",
    "    end\n",
    "    \n",
    "end"
   ]
  },
  {
   "cell_type": "markdown",
   "metadata": {},
   "source": [
    "Finally, I altered the show function for polynomials. "
   ]
  },
  {
   "cell_type": "code",
   "execution_count": null,
   "metadata": {},
   "outputs": [],
   "source": [
    "# By default, print from highest to lowest powers. \n",
    "global lowest_to_highest = false\n",
    "\n",
    "# modified show for polynomials  \n",
    "function show(io::IO, p::Polynomial) \n",
    "\n",
    "    if iszero(p)\n",
    "        print(io,\"0\")\n",
    "    else\n",
    "        n = length(p.terms)\n",
    "        (hasproperty(Main, :lowest_to_highest) && lowest_to_highest) ?  p_terms = p.terms  : p_terms = reverse(p.terms)\n",
    "        for (i,t) in enumerate([y for y in p_terms if !iszero(y)])\n",
    "            print(io, i==1 ? \"$t\" : (t.coeff ≥ 0 ? \" + $t\" : \" - $(-t)\"))\n",
    "        end\n",
    "    end\n",
    "    \n",
    "end"
   ]
  },
  {
   "cell_type": "code",
   "execution_count": 17,
   "metadata": {},
   "outputs": [
    {
     "name": "stdout",
     "output_type": "stream",
     "text": [
      "400x⁴ - 5x³ + x² - x"
     ]
    }
   ],
   "source": [
    "x = x_poly();\n",
    "\n",
    "print(x^2 - 5x^3 - x + 0*x^6 + 400x^4)"
   ]
  },
  {
   "cell_type": "markdown",
   "metadata": {},
   "source": [
    "## Task 2"
   ]
  },
  {
   "cell_type": "markdown",
   "metadata": {},
   "source": [
    "I have implemented PolynomialSparse in new files in the source code. "
   ]
  },
  {
   "cell_type": "code",
   "execution_count": 3,
   "metadata": {},
   "outputs": [
    {
     "data": {
      "image/png": "[encoded data removed]",
      "image/svg+xml": [
       "<?xml version=\"1.0\" encoding=\"utf-8\"?>\n",
       "<svg xmlns=\"http://www.w3.org/2000/svg\" xmlns:xlink=\"http://www.w3.org/1999/xlink\" width=\"600\" height=\"400\" viewBox=\"0 0 2400 1600\">\n",
       "<defs>\n",
       "  <clipPath id=\"clip470\">\n",
       "    <rect x=\"0\" y=\"0\" width=\"2400\" height=\"1600\"/>\n",
       "  </clipPath>\n",
       "</defs>\n",
       "<path clip-path=\"url(#clip470)\" d=\"M0 1600 L2400 1600 L2400 0 L0 0  Z\" fill=\"#ffffff\" fill-rule=\"evenodd\" fill-opacity=\"1\"/>\n",
       "<defs>\n",
       "  <clipPath id=\"clip471\">\n",
       "    <rect x=\"480\" y=\"0\" width=\"1681\" height=\"1600\"/>\n",
       "  </clipPath>\n",
       "</defs>\n",
       "<path clip-path=\"url(#clip470)\" d=\"M138.959 1486.45 L2352.76 1486.45 L2352.76 47.2441 L138.959 47.2441  Z\" fill=\"#ffffff\" fill-rule=\"evenodd\" fill-opacity=\"1\"/>\n",
       "<defs>\n",
       "  <clipPath id=\"clip472\">\n",
       "    <rect x=\"138\" y=\"47\" width=\"2215\" height=\"1440\"/>\n",
       "  </clipPath>\n",
       "</defs>\n",
       "<polyline clip-path=\"url(#clip472)\" style=\"stroke:#000000; stroke-linecap:round; stroke-linejoin:round; stroke-width:2; stroke-opacity:0.1; fill:none\" points=\"180.518,1486.45 180.518,47.2441 \"/>\n",
       "<polyline clip-path=\"url(#clip472)\" style=\"stroke:#000000; stroke-linecap:round; stroke-linejoin:round; stroke-width:2; stroke-opacity:0.1; fill:none\" points=\"707.914,1486.45 707.914,47.2441 \"/>\n",
       "<polyline clip-path=\"url(#clip472)\" style=\"stroke:#000000; stroke-linecap:round; stroke-linejoin:round; stroke-width:2; stroke-opacity:0.1; fill:none\" points=\"1235.31,1486.45 1235.31,47.2441 \"/>\n",
       "<polyline clip-path=\"url(#clip472)\" style=\"stroke:#000000; stroke-linecap:round; stroke-linejoin:round; stroke-width:2; stroke-opacity:0.1; fill:none\" points=\"1762.71,1486.45 1762.71,47.2441 \"/>\n",
       "<polyline clip-path=\"url(#clip472)\" style=\"stroke:#000000; stroke-linecap:round; stroke-linejoin:round; stroke-width:2; stroke-opacity:0.1; fill:none\" points=\"2290.1,1486.45 2290.1,47.2441 \"/>\n",
       "<polyline clip-path=\"url(#clip470)\" style=\"stroke:#000000; stroke-linecap:round; stroke-linejoin:round; stroke-width:4; stroke-opacity:1; fill:none\" points=\"138.959,1486.45 2352.76,1486.45 \"/>\n",
       "<polyline clip-path=\"url(#clip470)\" style=\"stroke:#000000; stroke-linecap:round; stroke-linejoin:round; stroke-width:4; stroke-opacity:1; fill:none\" points=\"180.518,1486.45 180.518,1467.55 \"/>\n",
       "<polyline clip-path=\"url(#clip470)\" style=\"stroke:#000000; stroke-linecap:round; stroke-linejoin:round; stroke-width:4; stroke-opacity:1; fill:none\" points=\"707.914,1486.45 707.914,1467.55 \"/>\n",
       "<polyline clip-path=\"url(#clip470)\" style=\"stroke:#000000; stroke-linecap:round; stroke-linejoin:round; stroke-width:4; stroke-opacity:1; fill:none\" points=\"1235.31,1486.45 1235.31,1467.55 \"/>\n",
       "<polyline clip-path=\"url(#clip470)\" style=\"stroke:#000000; stroke-linecap:round; stroke-linejoin:round; stroke-width:4; stroke-opacity:1; fill:none\" points=\"1762.71,1486.45 1762.71,1467.55 \"/>\n",
       "<polyline clip-path=\"url(#clip470)\" style=\"stroke:#000000; stroke-linecap:round; stroke-linejoin:round; stroke-width:4; stroke-opacity:1; fill:none\" points=\"2290.1,1486.45 2290.1,1467.55 \"/>\n",
       "<path clip-path=\"url(#clip470)\" d=\"M180.518 1517.37 Q176.907 1517.37 175.078 1520.93 Q173.273 1524.47 173.273 1531.6 Q173.273 1538.71 175.078 1542.27 Q176.907 1545.82 180.518 1545.82 Q184.152 1545.82 185.958 1542.27 Q187.787 1538.71 187.787 1531.6 Q187.787 1524.47 185.958 1520.93 Q184.152 1517.37 180.518 1517.37 M180.518 1513.66 Q186.328 1513.66 189.384 1518.27 Q192.463 1522.85 192.463 1531.6 Q192.463 1540.33 189.384 1544.94 Q186.328 1549.52 180.518 1549.52 Q174.708 1549.52 171.629 1544.94 Q168.574 1540.33 168.574 1531.6 Q168.574 1522.85 171.629 1518.27 Q174.708 1513.66 180.518 1513.66 Z\" fill=\"#000000\" fill-rule=\"nonzero\" fill-opacity=\"1\" /><path clip-path=\"url(#clip470)\" d=\"M687.185 1544.91 L703.504 1544.91 L703.504 1548.85 L681.56 1548.85 L681.56 1544.91 Q684.222 1542.16 688.805 1537.53 Q693.412 1532.88 694.592 1531.53 Q696.838 1529.01 697.717 1527.27 Q698.62 1525.51 698.62 1523.82 Q698.62 1521.07 696.676 1519.33 Q694.754 1517.6 691.653 1517.6 Q689.453 1517.6 687 1518.36 Q684.569 1519.13 681.791 1520.68 L681.791 1515.95 Q684.616 1514.82 687.069 1514.24 Q689.523 1513.66 691.56 1513.66 Q696.93 1513.66 700.125 1516.35 Q703.319 1519.03 703.319 1523.52 Q703.319 1525.65 702.509 1527.57 Q701.722 1529.47 699.615 1532.07 Q699.037 1532.74 695.935 1535.95 Q692.833 1539.15 687.185 1544.91 Z\" fill=\"#000000\" fill-rule=\"nonzero\" fill-opacity=\"1\" /><path clip-path=\"url(#clip470)\" d=\"M713.365 1514.29 L731.722 1514.29 L731.722 1518.22 L717.648 1518.22 L717.648 1526.7 Q718.666 1526.35 719.685 1526.19 Q720.703 1526 721.722 1526 Q727.509 1526 730.888 1529.17 Q734.268 1532.34 734.268 1537.76 Q734.268 1543.34 730.796 1546.44 Q727.324 1549.52 721.004 1549.52 Q718.828 1549.52 716.56 1549.15 Q714.314 1548.78 711.907 1548.04 L711.907 1543.34 Q713.99 1544.47 716.213 1545.03 Q718.435 1545.58 720.912 1545.58 Q724.916 1545.58 727.254 1543.48 Q729.592 1541.37 729.592 1537.76 Q729.592 1534.15 727.254 1532.04 Q724.916 1529.94 720.912 1529.94 Q719.037 1529.94 717.162 1530.35 Q715.31 1530.77 713.365 1531.65 L713.365 1514.29 Z\" fill=\"#000000\" fill-rule=\"nonzero\" fill-opacity=\"1\" /><path clip-path=\"url(#clip470)\" d=\"M1210.01 1514.29 L1228.37 1514.29 L1228.37 1518.22 L1214.29 1518.22 L1214.29 1526.7 Q1215.31 1526.35 1216.33 1526.19 Q1217.35 1526 1218.37 1526 Q1224.15 1526 1227.53 1529.17 Q1230.91 1532.34 1230.91 1537.76 Q1230.91 1543.34 1227.44 1546.44 Q1223.97 1549.52 1217.65 1549.52 Q1215.47 1549.52 1213.2 1549.15 Q1210.96 1548.78 1208.55 1548.04 L1208.55 1543.34 Q1210.63 1544.47 1212.86 1545.03 Q1215.08 1545.58 1217.56 1545.58 Q1221.56 1545.58 1223.9 1543.48 Q1226.24 1541.37 1226.24 1537.76 Q1226.24 1534.15 1223.9 1532.04 Q1221.56 1529.94 1217.56 1529.94 Q1215.68 1529.94 1213.81 1530.35 Q1211.95 1530.77 1210.01 1531.65 L1210.01 1514.29 Z\" fill=\"#000000\" fill-rule=\"nonzero\" fill-opacity=\"1\" /><path clip-path=\"url(#clip470)\" d=\"M1250.12 1517.37 Q1246.51 1517.37 1244.68 1520.93 Q1242.88 1524.47 1242.88 1531.6 Q1242.88 1538.71 1244.68 1542.27 Q1246.51 1545.82 1250.12 1545.82 Q1253.76 1545.82 1255.56 1542.27 Q1257.39 1538.71 1257.39 1531.6 Q1257.39 1524.47 1255.56 1520.93 Q1253.76 1517.37 1250.12 1517.37 M1250.12 1513.66 Q1255.93 1513.66 1258.99 1518.27 Q1262.07 1522.85 1262.07 1531.6 Q1262.07 1540.33 1258.99 1544.94 Q1255.93 1549.52 1250.12 1549.52 Q1244.31 1549.52 1241.24 1544.94 Q1238.18 1540.33 1238.18 1531.6 Q1238.18 1522.85 1241.24 1518.27 Q1244.31 1513.66 1250.12 1513.66 Z\" fill=\"#000000\" fill-rule=\"nonzero\" fill-opacity=\"1\" /><path clip-path=\"url(#clip470)\" d=\"M1736.56 1514.29 L1758.78 1514.29 L1758.78 1516.28 L1746.24 1548.85 L1741.35 1548.85 L1753.16 1518.22 L1736.56 1518.22 L1736.56 1514.29 Z\" fill=\"#000000\" fill-rule=\"nonzero\" fill-opacity=\"1\" /><path clip-path=\"url(#clip470)\" d=\"M1767.95 1514.29 L1786.3 1514.29 L1786.3 1518.22 L1772.23 1518.22 L1772.23 1526.7 Q1773.25 1526.35 1774.27 1526.19 Q1775.29 1526 1776.3 1526 Q1782.09 1526 1785.47 1529.17 Q1788.85 1532.34 1788.85 1537.76 Q1788.85 1543.34 1785.38 1546.44 Q1781.91 1549.52 1775.59 1549.52 Q1773.41 1549.52 1771.14 1549.15 Q1768.9 1548.78 1766.49 1548.04 L1766.49 1543.34 Q1768.57 1544.47 1770.8 1545.03 Q1773.02 1545.58 1775.49 1545.58 Q1779.5 1545.58 1781.84 1543.48 Q1784.18 1541.37 1784.18 1537.76 Q1784.18 1534.15 1781.84 1532.04 Q1779.5 1529.94 1775.49 1529.94 Q1773.62 1529.94 1771.74 1530.35 Q1769.89 1530.77 1767.95 1531.65 L1767.95 1514.29 Z\" fill=\"#000000\" fill-rule=\"nonzero\" fill-opacity=\"1\" /><path clip-path=\"url(#clip470)\" d=\"M2249.71 1544.91 L2257.35 1544.91 L2257.35 1518.55 L2249.04 1520.21 L2249.04 1515.95 L2257.3 1514.29 L2261.98 1514.29 L2261.98 1544.91 L2269.62 1544.91 L2269.62 1548.85 L2249.71 1548.85 L2249.71 1544.91 Z\" fill=\"#000000\" fill-rule=\"nonzero\" fill-opacity=\"1\" /><path clip-path=\"url(#clip470)\" d=\"M2289.06 1517.37 Q2285.45 1517.37 2283.62 1520.93 Q2281.81 1524.47 2281.81 1531.6 Q2281.81 1538.71 2283.62 1542.27 Q2285.45 1545.82 2289.06 1545.82 Q2292.69 1545.82 2294.5 1542.27 Q2296.33 1538.71 2296.33 1531.6 Q2296.33 1524.47 2294.5 1520.93 Q2292.69 1517.37 2289.06 1517.37 M2289.06 1513.66 Q2294.87 1513.66 2297.93 1518.27 Q2301 1522.85 2301 1531.6 Q2301 1540.33 2297.93 1544.94 Q2294.87 1549.52 2289.06 1549.52 Q2283.25 1549.52 2280.17 1544.94 Q2277.12 1540.33 2277.12 1531.6 Q2277.12 1522.85 2280.17 1518.27 Q2283.25 1513.66 2289.06 1513.66 Z\" fill=\"#000000\" fill-rule=\"nonzero\" fill-opacity=\"1\" /><path clip-path=\"url(#clip470)\" d=\"M2319.22 1517.37 Q2315.61 1517.37 2313.78 1520.93 Q2311.98 1524.47 2311.98 1531.6 Q2311.98 1538.71 2313.78 1542.27 Q2315.61 1545.82 2319.22 1545.82 Q2322.86 1545.82 2324.66 1542.27 Q2326.49 1538.71 2326.49 1531.6 Q2326.49 1524.47 2324.66 1520.93 Q2322.86 1517.37 2319.22 1517.37 M2319.22 1513.66 Q2325.03 1513.66 2328.09 1518.27 Q2331.17 1522.85 2331.17 1531.6 Q2331.17 1540.33 2328.09 1544.94 Q2325.03 1549.52 2319.22 1549.52 Q2313.41 1549.52 2310.33 1544.94 Q2307.28 1540.33 2307.28 1531.6 Q2307.28 1522.85 2310.33 1518.27 Q2313.41 1513.66 2319.22 1513.66 Z\" fill=\"#000000\" fill-rule=\"nonzero\" fill-opacity=\"1\" /><polyline clip-path=\"url(#clip472)\" style=\"stroke:#000000; stroke-linecap:round; stroke-linejoin:round; stroke-width:2; stroke-opacity:0.1; fill:none\" points=\"138.959,1447.52 2352.76,1447.52 \"/>\n",
       "<polyline clip-path=\"url(#clip472)\" style=\"stroke:#000000; stroke-linecap:round; stroke-linejoin:round; stroke-width:2; stroke-opacity:0.1; fill:none\" points=\"138.959,1091.53 2352.76,1091.53 \"/>\n",
       "<polyline clip-path=\"url(#clip472)\" style=\"stroke:#000000; stroke-linecap:round; stroke-linejoin:round; stroke-width:2; stroke-opacity:0.1; fill:none\" points=\"138.959,735.552 2352.76,735.552 \"/>\n",
       "<polyline clip-path=\"url(#clip472)\" style=\"stroke:#000000; stroke-linecap:round; stroke-linejoin:round; stroke-width:2; stroke-opacity:0.1; fill:none\" points=\"138.959,379.569 2352.76,379.569 \"/>\n",
       "<polyline clip-path=\"url(#clip470)\" style=\"stroke:#000000; stroke-linecap:round; stroke-linejoin:round; stroke-width:4; stroke-opacity:1; fill:none\" points=\"138.959,1486.45 138.959,47.2441 \"/>\n",
       "<polyline clip-path=\"url(#clip470)\" style=\"stroke:#000000; stroke-linecap:round; stroke-linejoin:round; stroke-width:4; stroke-opacity:1; fill:none\" points=\"138.959,1447.52 157.857,1447.52 \"/>\n",
       "<polyline clip-path=\"url(#clip470)\" style=\"stroke:#000000; stroke-linecap:round; stroke-linejoin:round; stroke-width:4; stroke-opacity:1; fill:none\" points=\"138.959,1091.53 157.857,1091.53 \"/>\n",
       "<polyline clip-path=\"url(#clip470)\" style=\"stroke:#000000; stroke-linecap:round; stroke-linejoin:round; stroke-width:4; stroke-opacity:1; fill:none\" points=\"138.959,735.552 157.857,735.552 \"/>\n",
       "<polyline clip-path=\"url(#clip470)\" style=\"stroke:#000000; stroke-linecap:round; stroke-linejoin:round; stroke-width:4; stroke-opacity:1; fill:none\" points=\"138.959,379.569 157.857,379.569 \"/>\n",
       "<path clip-path=\"url(#clip470)\" d=\"M91.0151 1433.32 Q87.404 1433.32 85.5753 1436.88 Q83.7697 1440.42 83.7697 1447.55 Q83.7697 1454.66 85.5753 1458.22 Q87.404 1461.76 91.0151 1461.76 Q94.6493 1461.76 96.4548 1458.22 Q98.2835 1454.66 98.2835 1447.55 Q98.2835 1440.42 96.4548 1436.88 Q94.6493 1433.32 91.0151 1433.32 M91.0151 1429.61 Q96.8252 1429.61 99.8808 1434.22 Q102.959 1438.8 102.959 1447.55 Q102.959 1456.28 99.8808 1460.88 Q96.8252 1465.47 91.0151 1465.47 Q85.2049 1465.47 82.1262 1460.88 Q79.0707 1456.28 79.0707 1447.55 Q79.0707 1438.8 82.1262 1434.22 Q85.2049 1429.61 91.0151 1429.61 Z\" fill=\"#000000\" fill-rule=\"nonzero\" fill-opacity=\"1\" /><path clip-path=\"url(#clip470)\" d=\"M82.0568 1074.25 L100.413 1074.25 L100.413 1078.19 L86.3392 1078.19 L86.3392 1086.66 Q87.3577 1086.31 88.3762 1086.15 Q89.3947 1085.97 90.4132 1085.97 Q96.2002 1085.97 99.5798 1089.14 Q102.959 1092.31 102.959 1097.73 Q102.959 1103.31 99.4872 1106.41 Q96.015 1109.49 89.6956 1109.49 Q87.5197 1109.49 85.2512 1109.12 Q83.0058 1108.74 80.5984 1108 L80.5984 1103.31 Q82.6818 1104.44 84.904 1104.99 Q87.1262 1105.55 89.603 1105.55 Q93.6076 1105.55 95.9456 1103.44 Q98.2835 1101.34 98.2835 1097.73 Q98.2835 1094.12 95.9456 1092.01 Q93.6076 1089.9 89.603 1089.9 Q87.728 1089.9 85.8531 1090.32 Q84.0012 1090.74 82.0568 1091.62 L82.0568 1074.25 Z\" fill=\"#000000\" fill-rule=\"nonzero\" fill-opacity=\"1\" /><path clip-path=\"url(#clip470)\" d=\"M51.6634 748.896 L59.3023 748.896 L59.3023 722.531 L50.9921 724.197 L50.9921 719.938 L59.256 718.272 L63.9319 718.272 L63.9319 748.896 L71.5707 748.896 L71.5707 752.832 L51.6634 752.832 L51.6634 748.896 Z\" fill=\"#000000\" fill-rule=\"nonzero\" fill-opacity=\"1\" /><path clip-path=\"url(#clip470)\" d=\"M91.0151 721.35 Q87.404 721.35 85.5753 724.915 Q83.7697 728.457 83.7697 735.586 Q83.7697 742.693 85.5753 746.258 Q87.404 749.799 91.0151 749.799 Q94.6493 749.799 96.4548 746.258 Q98.2835 742.693 98.2835 735.586 Q98.2835 728.457 96.4548 724.915 Q94.6493 721.35 91.0151 721.35 M91.0151 717.647 Q96.8252 717.647 99.8808 722.253 Q102.959 726.836 102.959 735.586 Q102.959 744.313 99.8808 748.92 Q96.8252 753.503 91.0151 753.503 Q85.2049 753.503 82.1262 748.92 Q79.0707 744.313 79.0707 735.586 Q79.0707 726.836 82.1262 722.253 Q85.2049 717.647 91.0151 717.647 Z\" fill=\"#000000\" fill-rule=\"nonzero\" fill-opacity=\"1\" /><path clip-path=\"url(#clip470)\" d=\"M52.6588 392.914 L60.2976 392.914 L60.2976 366.548 L51.9875 368.215 L51.9875 363.955 L60.2513 362.289 L64.9272 362.289 L64.9272 392.914 L72.5661 392.914 L72.5661 396.849 L52.6588 396.849 L52.6588 392.914 Z\" fill=\"#000000\" fill-rule=\"nonzero\" fill-opacity=\"1\" /><path clip-path=\"url(#clip470)\" d=\"M82.0568 362.289 L100.413 362.289 L100.413 366.224 L86.3392 366.224 L86.3392 374.696 Q87.3577 374.349 88.3762 374.187 Q89.3947 374.002 90.4132 374.002 Q96.2002 374.002 99.5798 377.173 Q102.959 380.344 102.959 385.761 Q102.959 391.34 99.4872 394.441 Q96.015 397.52 89.6956 397.52 Q87.5197 397.52 85.2512 397.15 Q83.0058 396.779 80.5984 396.039 L80.5984 391.34 Q82.6818 392.474 84.904 393.029 Q87.1262 393.585 89.603 393.585 Q93.6076 393.585 95.9456 391.478 Q98.2835 389.372 98.2835 385.761 Q98.2835 382.15 95.9456 380.043 Q93.6076 377.937 89.603 377.937 Q87.728 377.937 85.8531 378.354 Q84.0012 378.77 82.0568 379.65 L82.0568 362.289 Z\" fill=\"#000000\" fill-rule=\"nonzero\" fill-opacity=\"1\" /><polyline clip-path=\"url(#clip472)\" style=\"stroke:#009af9; stroke-linecap:round; stroke-linejoin:round; stroke-width:4; stroke-opacity:1; fill:none\" points=\"201.614,1445.72 222.71,1445.56 243.806,1445.69 264.902,1445.14 285.997,1444.14 307.093,1443.38 328.189,1442.12 349.285,1440.9 370.381,1439.34 391.477,1437.8 412.572,1436.32 433.668,1434.45 454.764,1432.42 475.86,1430.34 496.956,1427.6 518.052,1425.71 539.147,1423.16 560.243,1418.06 581.339,1413.8 602.435,1410.41 623.531,1405.97 644.627,1403.36 665.722,1400.34 686.818,1395.95 707.914,1391.83 729.01,1387.08 750.106,1381.65 771.201,1377.99 792.297,1373.22 813.393,1367.97 834.489,1363.68 855.585,1359.2 876.681,1351.63 897.776,1346.25 918.872,1341.14 939.968,1334.33 961.064,1328.47 982.16,1323.19 1003.26,1318.47 1024.35,1314.71 1045.45,1308.46 1066.54,1301.46 1087.64,1294 1108.73,1283.35 1129.83,1276.03 1150.93,1266.66 1172.02,87.9763 1193.12,1289.37 1214.21,1282.25 1235.31,1275.17 1256.41,1267.96 1277.5,1260.98 1298.6,1254.33 1319.69,1247.54 1340.79,1238.44 1361.88,1207.29 1382.98,1189.66 1404.08,1181.41 1425.17,1169.35 1446.27,1152.2 1467.36,1140.05 1488.46,1132.96 1509.56,149.761 1530.65,1168.95 1551.75,1159.72 1572.84,1152.59 1593.94,1141 1615.03,1133.17 1636.13,1080.96 1657.23,1066.64 1678.32,1048.61 1699.42,1024 1720.51,1022.32 1741.61,611.2 1762.71,1068.47 1783.8,1055.54 1804.9,1045.91 1825.99,1010.39 1847.09,961.757 1868.18,930.025 1889.28,904.558 1910.38,662.668 1931.47,975.128 1952.57,973.939 1973.66,959.707 1994.76,892.241 2015.86,863.599 2036.95,826.099 2058.05,580.357 2079.14,896.627 2100.24,891.486 2121.33,848.783 2142.43,785.887 2163.53,716.385 2184.62,485.111 2205.72,822.497 2226.81,814.181 2247.91,730.561 2269.01,677.818 2290.1,361.043 \"/>\n",
       "<polyline clip-path=\"url(#clip472)\" style=\"stroke:#e26f46; stroke-linecap:round; stroke-linejoin:round; stroke-width:4; stroke-opacity:1; fill:none\" points=\"201.614,1443.56 222.71,1443.78 243.806,1442.43 264.902,1441.02 285.997,1439.59 307.093,1438.11 328.189,1436.59 349.285,1435.26 370.381,1433.72 391.477,1432.23 412.572,1430.83 433.668,1429.16 454.764,1428.09 475.86,1426.45 496.956,1425.18 518.052,1423.62 539.147,1422.11 560.243,1420.63 581.339,1419.19 602.435,1417.91 623.531,1416.6 644.627,1413.53 665.722,1413.51 686.818,1412.29 707.914,1411.02 729.01,1409.57 750.106,1408.2 771.201,1404.83 792.297,1403.72 813.393,1402.31 834.489,1400.93 855.585,1399.42 876.681,1397.6 897.776,1396.48 918.872,1394.95 939.968,1393.67 961.064,1391.81 982.16,1390.27 1003.26,1389.83 1024.35,1388.12 1045.45,1387.28 1066.54,1385.68 1087.64,1384.54 1108.73,1381 1129.83,1381.53 1150.93,1379.32 1172.02,1378.68 1193.12,1375.32 1214.21,1375.53 1235.31,1374.33 1256.41,1372.53 1277.5,1371.08 1298.6,1368.31 1319.69,1368.15 1340.79,1366.78 1361.88,1364.15 1382.98,1362.26 1404.08,1359.77 1425.17,1358.76 1446.27,1357.45 1467.36,1355.57 1488.46,1353.99 1509.56,1353.78 1530.65,1351.67 1551.75,1349.93 1572.84,1348.29 1593.94,1347.39 1615.03,1345.81 1636.13,1343.71 1657.23,1342.49 1678.32,1340.89 1699.42,1339.47 1720.51,1336.98 1741.61,1337.55 1762.71,1335.68 1783.8,1334.48 1804.9,1332.72 1825.99,1331.22 1847.09,1330.03 1868.18,1329.05 1889.28,1327.12 1910.38,1324.57 1931.47,1321 1952.57,1321.01 1973.66,1319.41 1994.76,1317.6 2015.86,1314.72 2036.95,1313.92 2058.05,1312.53 2079.14,577.702 2100.24,1311.36 2121.33,1311.71 2142.43,1312.26 2163.53,1311.39 2184.62,1311.31 2205.72,1310.26 2226.81,1308.14 2247.91,1305.55 2269.01,1305.79 2290.1,1303.98 \"/>\n",
       "<path clip-path=\"url(#clip470)\" d=\"M212.753 250.738 L486.563 250.738 L486.563 95.2176 L212.753 95.2176  Z\" fill=\"#ffffff\" fill-rule=\"evenodd\" fill-opacity=\"1\"/>\n",
       "<polyline clip-path=\"url(#clip470)\" style=\"stroke:#000000; stroke-linecap:round; stroke-linejoin:round; stroke-width:4; stroke-opacity:1; fill:none\" points=\"212.753,250.738 486.563,250.738 486.563,95.2176 212.753,95.2176 212.753,250.738 \"/>\n",
       "<polyline clip-path=\"url(#clip470)\" style=\"stroke:#009af9; stroke-linecap:round; stroke-linejoin:round; stroke-width:4; stroke-opacity:1; fill:none\" points=\"237.35,147.058 384.937,147.058 \"/>\n",
       "<path clip-path=\"url(#clip470)\" d=\"M423.377 166.745 Q421.572 171.375 419.859 172.787 Q418.146 174.199 415.275 174.199 L411.873 174.199 L411.873 170.634 L414.373 170.634 Q416.132 170.634 417.104 169.8 Q418.076 168.967 419.257 165.865 L420.021 163.921 L409.535 138.412 L414.048 138.412 L422.15 158.689 L430.252 138.412 L434.766 138.412 L423.377 166.745 Z\" fill=\"#000000\" fill-rule=\"nonzero\" fill-opacity=\"1\" /><path clip-path=\"url(#clip470)\" d=\"M442.058 160.402 L449.696 160.402 L449.696 134.037 L441.386 135.703 L441.386 131.444 L449.65 129.778 L454.326 129.778 L454.326 160.402 L461.965 160.402 L461.965 164.338 L442.058 164.338 L442.058 160.402 Z\" fill=\"#000000\" fill-rule=\"nonzero\" fill-opacity=\"1\" /><polyline clip-path=\"url(#clip470)\" style=\"stroke:#e26f46; stroke-linecap:round; stroke-linejoin:round; stroke-width:4; stroke-opacity:1; fill:none\" points=\"237.35,198.898 384.937,198.898 \"/>\n",
       "<path clip-path=\"url(#clip470)\" d=\"M423.377 218.585 Q421.572 223.215 419.859 224.627 Q418.146 226.039 415.275 226.039 L411.873 226.039 L411.873 222.474 L414.373 222.474 Q416.132 222.474 417.104 221.64 Q418.076 220.807 419.257 217.705 L420.021 215.761 L409.535 190.252 L414.048 190.252 L422.15 210.529 L430.252 190.252 L434.766 190.252 L423.377 218.585 Z\" fill=\"#000000\" fill-rule=\"nonzero\" fill-opacity=\"1\" /><path clip-path=\"url(#clip470)\" d=\"M445.275 212.242 L461.594 212.242 L461.594 216.178 L439.65 216.178 L439.65 212.242 Q442.312 209.488 446.895 204.858 Q451.502 200.205 452.682 198.863 Q454.928 196.34 455.807 194.604 Q456.71 192.844 456.71 191.155 Q456.71 188.4 454.766 186.664 Q452.845 184.928 449.743 184.928 Q447.544 184.928 445.09 185.692 Q442.659 186.455 439.882 188.006 L439.882 183.284 Q442.706 182.15 445.159 181.571 Q447.613 180.993 449.65 180.993 Q455.02 180.993 458.215 183.678 Q461.409 186.363 461.409 190.854 Q461.409 192.983 460.599 194.905 Q459.812 196.803 457.706 199.395 Q457.127 200.067 454.025 203.284 Q450.923 206.479 445.275 212.242 Z\" fill=\"#000000\" fill-rule=\"nonzero\" fill-opacity=\"1\" /></svg>\n"
      ],
      "text/html": [
       "<?xml version=\"1.0\" encoding=\"utf-8\"?>\n",
       "<svg xmlns=\"http://www.w3.org/2000/svg\" xmlns:xlink=\"http://www.w3.org/1999/xlink\" width=\"600\" height=\"400\" viewBox=\"0 0 2400 1600\">\n",
       "<defs>\n",
       "  <clipPath id=\"clip520\">\n",
       "    <rect x=\"0\" y=\"0\" width=\"2400\" height=\"1600\"/>\n",
       "  </clipPath>\n",
       "</defs>\n",
       "<path clip-path=\"url(#clip520)\" d=\"M0 1600 L2400 1600 L2400 0 L0 0  Z\" fill=\"#ffffff\" fill-rule=\"evenodd\" fill-opacity=\"1\"/>\n",
       "<defs>\n",
       "  <clipPath id=\"clip521\">\n",
       "    <rect x=\"480\" y=\"0\" width=\"1681\" height=\"1600\"/>\n",
       "  </clipPath>\n",
       "</defs>\n",
       "<path clip-path=\"url(#clip520)\" d=\"M138.959 1486.45 L2352.76 1486.45 L2352.76 47.2441 L138.959 47.2441  Z\" fill=\"#ffffff\" fill-rule=\"evenodd\" fill-opacity=\"1\"/>\n",
       "<defs>\n",
       "  <clipPath id=\"clip522\">\n",
       "    <rect x=\"138\" y=\"47\" width=\"2215\" height=\"1440\"/>\n",
       "  </clipPath>\n",
       "</defs>\n",
       "<polyline clip-path=\"url(#clip522)\" style=\"stroke:#000000; stroke-linecap:round; stroke-linejoin:round; stroke-width:2; stroke-opacity:0.1; fill:none\" points=\"180.518,1486.45 180.518,47.2441 \"/>\n",
       "<polyline clip-path=\"url(#clip522)\" style=\"stroke:#000000; stroke-linecap:round; stroke-linejoin:round; stroke-width:2; stroke-opacity:0.1; fill:none\" points=\"707.914,1486.45 707.914,47.2441 \"/>\n",
       "<polyline clip-path=\"url(#clip522)\" style=\"stroke:#000000; stroke-linecap:round; stroke-linejoin:round; stroke-width:2; stroke-opacity:0.1; fill:none\" points=\"1235.31,1486.45 1235.31,47.2441 \"/>\n",
       "<polyline clip-path=\"url(#clip522)\" style=\"stroke:#000000; stroke-linecap:round; stroke-linejoin:round; stroke-width:2; stroke-opacity:0.1; fill:none\" points=\"1762.71,1486.45 1762.71,47.2441 \"/>\n",
       "<polyline clip-path=\"url(#clip522)\" style=\"stroke:#000000; stroke-linecap:round; stroke-linejoin:round; stroke-width:2; stroke-opacity:0.1; fill:none\" points=\"2290.1,1486.45 2290.1,47.2441 \"/>\n",
       "<polyline clip-path=\"url(#clip520)\" style=\"stroke:#000000; stroke-linecap:round; stroke-linejoin:round; stroke-width:4; stroke-opacity:1; fill:none\" points=\"138.959,1486.45 2352.76,1486.45 \"/>\n",
       "<polyline clip-path=\"url(#clip520)\" style=\"stroke:#000000; stroke-linecap:round; stroke-linejoin:round; stroke-width:4; stroke-opacity:1; fill:none\" points=\"180.518,1486.45 180.518,1467.55 \"/>\n",
       "<polyline clip-path=\"url(#clip520)\" style=\"stroke:#000000; stroke-linecap:round; stroke-linejoin:round; stroke-width:4; stroke-opacity:1; fill:none\" points=\"707.914,1486.45 707.914,1467.55 \"/>\n",
       "<polyline clip-path=\"url(#clip520)\" style=\"stroke:#000000; stroke-linecap:round; stroke-linejoin:round; stroke-width:4; stroke-opacity:1; fill:none\" points=\"1235.31,1486.45 1235.31,1467.55 \"/>\n",
       "<polyline clip-path=\"url(#clip520)\" style=\"stroke:#000000; stroke-linecap:round; stroke-linejoin:round; stroke-width:4; stroke-opacity:1; fill:none\" points=\"1762.71,1486.45 1762.71,1467.55 \"/>\n",
       "<polyline clip-path=\"url(#clip520)\" style=\"stroke:#000000; stroke-linecap:round; stroke-linejoin:round; stroke-width:4; stroke-opacity:1; fill:none\" points=\"2290.1,1486.45 2290.1,1467.55 \"/>\n",
       "<path clip-path=\"url(#clip520)\" d=\"M180.518 1517.37 Q176.907 1517.37 175.078 1520.93 Q173.273 1524.47 173.273 1531.6 Q173.273 1538.71 175.078 1542.27 Q176.907 1545.82 180.518 1545.82 Q184.152 1545.82 185.958 1542.27 Q187.787 1538.71 187.787 1531.6 Q187.787 1524.47 185.958 1520.93 Q184.152 1517.37 180.518 1517.37 M180.518 1513.66 Q186.328 1513.66 189.384 1518.27 Q192.463 1522.85 192.463 1531.6 Q192.463 1540.33 189.384 1544.94 Q186.328 1549.52 180.518 1549.52 Q174.708 1549.52 171.629 1544.94 Q168.574 1540.33 168.574 1531.6 Q168.574 1522.85 171.629 1518.27 Q174.708 1513.66 180.518 1513.66 Z\" fill=\"#000000\" fill-rule=\"nonzero\" fill-opacity=\"1\" /><path clip-path=\"url(#clip520)\" d=\"M687.185 1544.91 L703.504 1544.91 L703.504 1548.85 L681.56 1548.85 L681.56 1544.91 Q684.222 1542.16 688.805 1537.53 Q693.412 1532.88 694.592 1531.53 Q696.838 1529.01 697.717 1527.27 Q698.62 1525.51 698.62 1523.82 Q698.62 1521.07 696.676 1519.33 Q694.754 1517.6 691.653 1517.6 Q689.453 1517.6 687 1518.36 Q684.569 1519.13 681.791 1520.68 L681.791 1515.95 Q684.616 1514.82 687.069 1514.24 Q689.523 1513.66 691.56 1513.66 Q696.93 1513.66 700.125 1516.35 Q703.319 1519.03 703.319 1523.52 Q703.319 1525.65 702.509 1527.57 Q701.722 1529.47 699.615 1532.07 Q699.037 1532.74 695.935 1535.95 Q692.833 1539.15 687.185 1544.91 Z\" fill=\"#000000\" fill-rule=\"nonzero\" fill-opacity=\"1\" /><path clip-path=\"url(#clip520)\" d=\"M713.365 1514.29 L731.722 1514.29 L731.722 1518.22 L717.648 1518.22 L717.648 1526.7 Q718.666 1526.35 719.685 1526.19 Q720.703 1526 721.722 1526 Q727.509 1526 730.888 1529.17 Q734.268 1532.34 734.268 1537.76 Q734.268 1543.34 730.796 1546.44 Q727.324 1549.52 721.004 1549.52 Q718.828 1549.52 716.56 1549.15 Q714.314 1548.78 711.907 1548.04 L711.907 1543.34 Q713.99 1544.47 716.213 1545.03 Q718.435 1545.58 720.912 1545.58 Q724.916 1545.58 727.254 1543.48 Q729.592 1541.37 729.592 1537.76 Q729.592 1534.15 727.254 1532.04 Q724.916 1529.94 720.912 1529.94 Q719.037 1529.94 717.162 1530.35 Q715.31 1530.77 713.365 1531.65 L713.365 1514.29 Z\" fill=\"#000000\" fill-rule=\"nonzero\" fill-opacity=\"1\" /><path clip-path=\"url(#clip520)\" d=\"M1210.01 1514.29 L1228.37 1514.29 L1228.37 1518.22 L1214.29 1518.22 L1214.29 1526.7 Q1215.31 1526.35 1216.33 1526.19 Q1217.35 1526 1218.37 1526 Q1224.15 1526 1227.53 1529.17 Q1230.91 1532.34 1230.91 1537.76 Q1230.91 1543.34 1227.44 1546.44 Q1223.97 1549.52 1217.65 1549.52 Q1215.47 1549.52 1213.2 1549.15 Q1210.96 1548.78 1208.55 1548.04 L1208.55 1543.34 Q1210.63 1544.47 1212.86 1545.03 Q1215.08 1545.58 1217.56 1545.58 Q1221.56 1545.58 1223.9 1543.48 Q1226.24 1541.37 1226.24 1537.76 Q1226.24 1534.15 1223.9 1532.04 Q1221.56 1529.94 1217.56 1529.94 Q1215.68 1529.94 1213.81 1530.35 Q1211.95 1530.77 1210.01 1531.65 L1210.01 1514.29 Z\" fill=\"#000000\" fill-rule=\"nonzero\" fill-opacity=\"1\" /><path clip-path=\"url(#clip520)\" d=\"M1250.12 1517.37 Q1246.51 1517.37 1244.68 1520.93 Q1242.88 1524.47 1242.88 1531.6 Q1242.88 1538.71 1244.68 1542.27 Q1246.51 1545.82 1250.12 1545.82 Q1253.76 1545.82 1255.56 1542.27 Q1257.39 1538.71 1257.39 1531.6 Q1257.39 1524.47 1255.56 1520.93 Q1253.76 1517.37 1250.12 1517.37 M1250.12 1513.66 Q1255.93 1513.66 1258.99 1518.27 Q1262.07 1522.85 1262.07 1531.6 Q1262.07 1540.33 1258.99 1544.94 Q1255.93 1549.52 1250.12 1549.52 Q1244.31 1549.52 1241.24 1544.94 Q1238.18 1540.33 1238.18 1531.6 Q1238.18 1522.85 1241.24 1518.27 Q1244.31 1513.66 1250.12 1513.66 Z\" fill=\"#000000\" fill-rule=\"nonzero\" fill-opacity=\"1\" /><path clip-path=\"url(#clip520)\" d=\"M1736.56 1514.29 L1758.78 1514.29 L1758.78 1516.28 L1746.24 1548.85 L1741.35 1548.85 L1753.16 1518.22 L1736.56 1518.22 L1736.56 1514.29 Z\" fill=\"#000000\" fill-rule=\"nonzero\" fill-opacity=\"1\" /><path clip-path=\"url(#clip520)\" d=\"M1767.95 1514.29 L1786.3 1514.29 L1786.3 1518.22 L1772.23 1518.22 L1772.23 1526.7 Q1773.25 1526.35 1774.27 1526.19 Q1775.29 1526 1776.3 1526 Q1782.09 1526 1785.47 1529.17 Q1788.85 1532.34 1788.85 1537.76 Q1788.85 1543.34 1785.38 1546.44 Q1781.91 1549.52 1775.59 1549.52 Q1773.41 1549.52 1771.14 1549.15 Q1768.9 1548.78 1766.49 1548.04 L1766.49 1543.34 Q1768.57 1544.47 1770.8 1545.03 Q1773.02 1545.58 1775.49 1545.58 Q1779.5 1545.58 1781.84 1543.48 Q1784.18 1541.37 1784.18 1537.76 Q1784.18 1534.15 1781.84 1532.04 Q1779.5 1529.94 1775.49 1529.94 Q1773.62 1529.94 1771.74 1530.35 Q1769.89 1530.77 1767.95 1531.65 L1767.95 1514.29 Z\" fill=\"#000000\" fill-rule=\"nonzero\" fill-opacity=\"1\" /><path clip-path=\"url(#clip520)\" d=\"M2249.71 1544.91 L2257.35 1544.91 L2257.35 1518.55 L2249.04 1520.21 L2249.04 1515.95 L2257.3 1514.29 L2261.98 1514.29 L2261.98 1544.91 L2269.62 1544.91 L2269.62 1548.85 L2249.71 1548.85 L2249.71 1544.91 Z\" fill=\"#000000\" fill-rule=\"nonzero\" fill-opacity=\"1\" /><path clip-path=\"url(#clip520)\" d=\"M2289.06 1517.37 Q2285.45 1517.37 2283.62 1520.93 Q2281.81 1524.47 2281.81 1531.6 Q2281.81 1538.71 2283.62 1542.27 Q2285.45 1545.82 2289.06 1545.82 Q2292.69 1545.82 2294.5 1542.27 Q2296.33 1538.71 2296.33 1531.6 Q2296.33 1524.47 2294.5 1520.93 Q2292.69 1517.37 2289.06 1517.37 M2289.06 1513.66 Q2294.87 1513.66 2297.93 1518.27 Q2301 1522.85 2301 1531.6 Q2301 1540.33 2297.93 1544.94 Q2294.87 1549.52 2289.06 1549.52 Q2283.25 1549.52 2280.17 1544.94 Q2277.12 1540.33 2277.12 1531.6 Q2277.12 1522.85 2280.17 1518.27 Q2283.25 1513.66 2289.06 1513.66 Z\" fill=\"#000000\" fill-rule=\"nonzero\" fill-opacity=\"1\" /><path clip-path=\"url(#clip520)\" d=\"M2319.22 1517.37 Q2315.61 1517.37 2313.78 1520.93 Q2311.98 1524.47 2311.98 1531.6 Q2311.98 1538.71 2313.78 1542.27 Q2315.61 1545.82 2319.22 1545.82 Q2322.86 1545.82 2324.66 1542.27 Q2326.49 1538.71 2326.49 1531.6 Q2326.49 1524.47 2324.66 1520.93 Q2322.86 1517.37 2319.22 1517.37 M2319.22 1513.66 Q2325.03 1513.66 2328.09 1518.27 Q2331.17 1522.85 2331.17 1531.6 Q2331.17 1540.33 2328.09 1544.94 Q2325.03 1549.52 2319.22 1549.52 Q2313.41 1549.52 2310.33 1544.94 Q2307.28 1540.33 2307.28 1531.6 Q2307.28 1522.85 2310.33 1518.27 Q2313.41 1513.66 2319.22 1513.66 Z\" fill=\"#000000\" fill-rule=\"nonzero\" fill-opacity=\"1\" /><polyline clip-path=\"url(#clip522)\" style=\"stroke:#000000; stroke-linecap:round; stroke-linejoin:round; stroke-width:2; stroke-opacity:0.1; fill:none\" points=\"138.959,1447.52 2352.76,1447.52 \"/>\n",
       "<polyline clip-path=\"url(#clip522)\" style=\"stroke:#000000; stroke-linecap:round; stroke-linejoin:round; stroke-width:2; stroke-opacity:0.1; fill:none\" points=\"138.959,1091.53 2352.76,1091.53 \"/>\n",
       "<polyline clip-path=\"url(#clip522)\" style=\"stroke:#000000; stroke-linecap:round; stroke-linejoin:round; stroke-width:2; stroke-opacity:0.1; fill:none\" points=\"138.959,735.552 2352.76,735.552 \"/>\n",
       "<polyline clip-path=\"url(#clip522)\" style=\"stroke:#000000; stroke-linecap:round; stroke-linejoin:round; stroke-width:2; stroke-opacity:0.1; fill:none\" points=\"138.959,379.569 2352.76,379.569 \"/>\n",
       "<polyline clip-path=\"url(#clip520)\" style=\"stroke:#000000; stroke-linecap:round; stroke-linejoin:round; stroke-width:4; stroke-opacity:1; fill:none\" points=\"138.959,1486.45 138.959,47.2441 \"/>\n",
       "<polyline clip-path=\"url(#clip520)\" style=\"stroke:#000000; stroke-linecap:round; stroke-linejoin:round; stroke-width:4; stroke-opacity:1; fill:none\" points=\"138.959,1447.52 157.857,1447.52 \"/>\n",
       "<polyline clip-path=\"url(#clip520)\" style=\"stroke:#000000; stroke-linecap:round; stroke-linejoin:round; stroke-width:4; stroke-opacity:1; fill:none\" points=\"138.959,1091.53 157.857,1091.53 \"/>\n",
       "<polyline clip-path=\"url(#clip520)\" style=\"stroke:#000000; stroke-linecap:round; stroke-linejoin:round; stroke-width:4; stroke-opacity:1; fill:none\" points=\"138.959,735.552 157.857,735.552 \"/>\n",
       "<polyline clip-path=\"url(#clip520)\" style=\"stroke:#000000; stroke-linecap:round; stroke-linejoin:round; stroke-width:4; stroke-opacity:1; fill:none\" points=\"138.959,379.569 157.857,379.569 \"/>\n",
       "<path clip-path=\"url(#clip520)\" d=\"M91.0151 1433.32 Q87.404 1433.32 85.5753 1436.88 Q83.7697 1440.42 83.7697 1447.55 Q83.7697 1454.66 85.5753 1458.22 Q87.404 1461.76 91.0151 1461.76 Q94.6493 1461.76 96.4548 1458.22 Q98.2835 1454.66 98.2835 1447.55 Q98.2835 1440.42 96.4548 1436.88 Q94.6493 1433.32 91.0151 1433.32 M91.0151 1429.61 Q96.8252 1429.61 99.8808 1434.22 Q102.959 1438.8 102.959 1447.55 Q102.959 1456.28 99.8808 1460.88 Q96.8252 1465.47 91.0151 1465.47 Q85.2049 1465.47 82.1262 1460.88 Q79.0707 1456.28 79.0707 1447.55 Q79.0707 1438.8 82.1262 1434.22 Q85.2049 1429.61 91.0151 1429.61 Z\" fill=\"#000000\" fill-rule=\"nonzero\" fill-opacity=\"1\" /><path clip-path=\"url(#clip520)\" d=\"M82.0568 1074.25 L100.413 1074.25 L100.413 1078.19 L86.3392 1078.19 L86.3392 1086.66 Q87.3577 1086.31 88.3762 1086.15 Q89.3947 1085.97 90.4132 1085.97 Q96.2002 1085.97 99.5798 1089.14 Q102.959 1092.31 102.959 1097.73 Q102.959 1103.31 99.4872 1106.41 Q96.015 1109.49 89.6956 1109.49 Q87.5197 1109.49 85.2512 1109.12 Q83.0058 1108.74 80.5984 1108 L80.5984 1103.31 Q82.6818 1104.44 84.904 1104.99 Q87.1262 1105.55 89.603 1105.55 Q93.6076 1105.55 95.9456 1103.44 Q98.2835 1101.34 98.2835 1097.73 Q98.2835 1094.12 95.9456 1092.01 Q93.6076 1089.9 89.603 1089.9 Q87.728 1089.9 85.8531 1090.32 Q84.0012 1090.74 82.0568 1091.62 L82.0568 1074.25 Z\" fill=\"#000000\" fill-rule=\"nonzero\" fill-opacity=\"1\" /><path clip-path=\"url(#clip520)\" d=\"M51.6634 748.896 L59.3023 748.896 L59.3023 722.531 L50.9921 724.197 L50.9921 719.938 L59.256 718.272 L63.9319 718.272 L63.9319 748.896 L71.5707 748.896 L71.5707 752.832 L51.6634 752.832 L51.6634 748.896 Z\" fill=\"#000000\" fill-rule=\"nonzero\" fill-opacity=\"1\" /><path clip-path=\"url(#clip520)\" d=\"M91.0151 721.35 Q87.404 721.35 85.5753 724.915 Q83.7697 728.457 83.7697 735.586 Q83.7697 742.693 85.5753 746.258 Q87.404 749.799 91.0151 749.799 Q94.6493 749.799 96.4548 746.258 Q98.2835 742.693 98.2835 735.586 Q98.2835 728.457 96.4548 724.915 Q94.6493 721.35 91.0151 721.35 M91.0151 717.647 Q96.8252 717.647 99.8808 722.253 Q102.959 726.836 102.959 735.586 Q102.959 744.313 99.8808 748.92 Q96.8252 753.503 91.0151 753.503 Q85.2049 753.503 82.1262 748.92 Q79.0707 744.313 79.0707 735.586 Q79.0707 726.836 82.1262 722.253 Q85.2049 717.647 91.0151 717.647 Z\" fill=\"#000000\" fill-rule=\"nonzero\" fill-opacity=\"1\" /><path clip-path=\"url(#clip520)\" d=\"M52.6588 392.914 L60.2976 392.914 L60.2976 366.548 L51.9875 368.215 L51.9875 363.955 L60.2513 362.289 L64.9272 362.289 L64.9272 392.914 L72.5661 392.914 L72.5661 396.849 L52.6588 396.849 L52.6588 392.914 Z\" fill=\"#000000\" fill-rule=\"nonzero\" fill-opacity=\"1\" /><path clip-path=\"url(#clip520)\" d=\"M82.0568 362.289 L100.413 362.289 L100.413 366.224 L86.3392 366.224 L86.3392 374.696 Q87.3577 374.349 88.3762 374.187 Q89.3947 374.002 90.4132 374.002 Q96.2002 374.002 99.5798 377.173 Q102.959 380.344 102.959 385.761 Q102.959 391.34 99.4872 394.441 Q96.015 397.52 89.6956 397.52 Q87.5197 397.52 85.2512 397.15 Q83.0058 396.779 80.5984 396.039 L80.5984 391.34 Q82.6818 392.474 84.904 393.029 Q87.1262 393.585 89.603 393.585 Q93.6076 393.585 95.9456 391.478 Q98.2835 389.372 98.2835 385.761 Q98.2835 382.15 95.9456 380.043 Q93.6076 377.937 89.603 377.937 Q87.728 377.937 85.8531 378.354 Q84.0012 378.77 82.0568 379.65 L82.0568 362.289 Z\" fill=\"#000000\" fill-rule=\"nonzero\" fill-opacity=\"1\" /><polyline clip-path=\"url(#clip522)\" style=\"stroke:#009af9; stroke-linecap:round; stroke-linejoin:round; stroke-width:4; stroke-opacity:1; fill:none\" points=\"201.614,1445.72 222.71,1445.56 243.806,1445.69 264.902,1445.14 285.997,1444.14 307.093,1443.38 328.189,1442.12 349.285,1440.9 370.381,1439.34 391.477,1437.8 412.572,1436.32 433.668,1434.45 454.764,1432.42 475.86,1430.34 496.956,1427.6 518.052,1425.71 539.147,1423.16 560.243,1418.06 581.339,1413.8 602.435,1410.41 623.531,1405.97 644.627,1403.36 665.722,1400.34 686.818,1395.95 707.914,1391.83 729.01,1387.08 750.106,1381.65 771.201,1377.99 792.297,1373.22 813.393,1367.97 834.489,1363.68 855.585,1359.2 876.681,1351.63 897.776,1346.25 918.872,1341.14 939.968,1334.33 961.064,1328.47 982.16,1323.19 1003.26,1318.47 1024.35,1314.71 1045.45,1308.46 1066.54,1301.46 1087.64,1294 1108.73,1283.35 1129.83,1276.03 1150.93,1266.66 1172.02,87.9763 1193.12,1289.37 1214.21,1282.25 1235.31,1275.17 1256.41,1267.96 1277.5,1260.98 1298.6,1254.33 1319.69,1247.54 1340.79,1238.44 1361.88,1207.29 1382.98,1189.66 1404.08,1181.41 1425.17,1169.35 1446.27,1152.2 1467.36,1140.05 1488.46,1132.96 1509.56,149.761 1530.65,1168.95 1551.75,1159.72 1572.84,1152.59 1593.94,1141 1615.03,1133.17 1636.13,1080.96 1657.23,1066.64 1678.32,1048.61 1699.42,1024 1720.51,1022.32 1741.61,611.2 1762.71,1068.47 1783.8,1055.54 1804.9,1045.91 1825.99,1010.39 1847.09,961.757 1868.18,930.025 1889.28,904.558 1910.38,662.668 1931.47,975.128 1952.57,973.939 1973.66,959.707 1994.76,892.241 2015.86,863.599 2036.95,826.099 2058.05,580.357 2079.14,896.627 2100.24,891.486 2121.33,848.783 2142.43,785.887 2163.53,716.385 2184.62,485.111 2205.72,822.497 2226.81,814.181 2247.91,730.561 2269.01,677.818 2290.1,361.043 \"/>\n",
       "<polyline clip-path=\"url(#clip522)\" style=\"stroke:#e26f46; stroke-linecap:round; stroke-linejoin:round; stroke-width:4; stroke-opacity:1; fill:none\" points=\"201.614,1443.56 222.71,1443.78 243.806,1442.43 264.902,1441.02 285.997,1439.59 307.093,1438.11 328.189,1436.59 349.285,1435.26 370.381,1433.72 391.477,1432.23 412.572,1430.83 433.668,1429.16 454.764,1428.09 475.86,1426.45 496.956,1425.18 518.052,1423.62 539.147,1422.11 560.243,1420.63 581.339,1419.19 602.435,1417.91 623.531,1416.6 644.627,1413.53 665.722,1413.51 686.818,1412.29 707.914,1411.02 729.01,1409.57 750.106,1408.2 771.201,1404.83 792.297,1403.72 813.393,1402.31 834.489,1400.93 855.585,1399.42 876.681,1397.6 897.776,1396.48 918.872,1394.95 939.968,1393.67 961.064,1391.81 982.16,1390.27 1003.26,1389.83 1024.35,1388.12 1045.45,1387.28 1066.54,1385.68 1087.64,1384.54 1108.73,1381 1129.83,1381.53 1150.93,1379.32 1172.02,1378.68 1193.12,1375.32 1214.21,1375.53 1235.31,1374.33 1256.41,1372.53 1277.5,1371.08 1298.6,1368.31 1319.69,1368.15 1340.79,1366.78 1361.88,1364.15 1382.98,1362.26 1404.08,1359.77 1425.17,1358.76 1446.27,1357.45 1467.36,1355.57 1488.46,1353.99 1509.56,1353.78 1530.65,1351.67 1551.75,1349.93 1572.84,1348.29 1593.94,1347.39 1615.03,1345.81 1636.13,1343.71 1657.23,1342.49 1678.32,1340.89 1699.42,1339.47 1720.51,1336.98 1741.61,1337.55 1762.71,1335.68 1783.8,1334.48 1804.9,1332.72 1825.99,1331.22 1847.09,1330.03 1868.18,1329.05 1889.28,1327.12 1910.38,1324.57 1931.47,1321 1952.57,1321.01 1973.66,1319.41 1994.76,1317.6 2015.86,1314.72 2036.95,1313.92 2058.05,1312.53 2079.14,577.702 2100.24,1311.36 2121.33,1311.71 2142.43,1312.26 2163.53,1311.39 2184.62,1311.31 2205.72,1310.26 2226.81,1308.14 2247.91,1305.55 2269.01,1305.79 2290.1,1303.98 \"/>\n",
       "<path clip-path=\"url(#clip520)\" d=\"M212.753 250.738 L486.563 250.738 L486.563 95.2176 L212.753 95.2176  Z\" fill=\"#ffffff\" fill-rule=\"evenodd\" fill-opacity=\"1\"/>\n",
       "<polyline clip-path=\"url(#clip520)\" style=\"stroke:#000000; stroke-linecap:round; stroke-linejoin:round; stroke-width:4; stroke-opacity:1; fill:none\" points=\"212.753,250.738 486.563,250.738 486.563,95.2176 212.753,95.2176 212.753,250.738 \"/>\n",
       "<polyline clip-path=\"url(#clip520)\" style=\"stroke:#009af9; stroke-linecap:round; stroke-linejoin:round; stroke-width:4; stroke-opacity:1; fill:none\" points=\"237.35,147.058 384.937,147.058 \"/>\n",
       "<path clip-path=\"url(#clip520)\" d=\"M423.377 166.745 Q421.572 171.375 419.859 172.787 Q418.146 174.199 415.275 174.199 L411.873 174.199 L411.873 170.634 L414.373 170.634 Q416.132 170.634 417.104 169.8 Q418.076 168.967 419.257 165.865 L420.021 163.921 L409.535 138.412 L414.048 138.412 L422.15 158.689 L430.252 138.412 L434.766 138.412 L423.377 166.745 Z\" fill=\"#000000\" fill-rule=\"nonzero\" fill-opacity=\"1\" /><path clip-path=\"url(#clip520)\" d=\"M442.058 160.402 L449.696 160.402 L449.696 134.037 L441.386 135.703 L441.386 131.444 L449.65 129.778 L454.326 129.778 L454.326 160.402 L461.965 160.402 L461.965 164.338 L442.058 164.338 L442.058 160.402 Z\" fill=\"#000000\" fill-rule=\"nonzero\" fill-opacity=\"1\" /><polyline clip-path=\"url(#clip520)\" style=\"stroke:#e26f46; stroke-linecap:round; stroke-linejoin:round; stroke-width:4; stroke-opacity:1; fill:none\" points=\"237.35,198.898 384.937,198.898 \"/>\n",
       "<path clip-path=\"url(#clip520)\" d=\"M423.377 218.585 Q421.572 223.215 419.859 224.627 Q418.146 226.039 415.275 226.039 L411.873 226.039 L411.873 222.474 L414.373 222.474 Q416.132 222.474 417.104 221.64 Q418.076 220.807 419.257 217.705 L420.021 215.761 L409.535 190.252 L414.048 190.252 L422.15 210.529 L430.252 190.252 L434.766 190.252 L423.377 218.585 Z\" fill=\"#000000\" fill-rule=\"nonzero\" fill-opacity=\"1\" /><path clip-path=\"url(#clip520)\" d=\"M445.275 212.242 L461.594 212.242 L461.594 216.178 L439.65 216.178 L439.65 212.242 Q442.312 209.488 446.895 204.858 Q451.502 200.205 452.682 198.863 Q454.928 196.34 455.807 194.604 Q456.71 192.844 456.71 191.155 Q456.71 188.4 454.766 186.664 Q452.845 184.928 449.743 184.928 Q447.544 184.928 445.09 185.692 Q442.659 186.455 439.882 188.006 L439.882 183.284 Q442.706 182.15 445.159 181.571 Q447.613 180.993 449.65 180.993 Q455.02 180.993 458.215 183.678 Q461.409 186.363 461.409 190.854 Q461.409 192.983 460.599 194.905 Q459.812 196.803 457.706 199.395 Q457.127 200.067 454.025 203.284 Q450.923 206.479 445.275 212.242 Z\" fill=\"#000000\" fill-rule=\"nonzero\" fill-opacity=\"1\" /></svg>\n"
      ]
     },
     "metadata": {},
     "output_type": "display_data"
    }
   ],
   "source": [
    "x = x_poly()\n",
    "q = x^5\n",
    "\n",
    "using Plots\n",
    "times = zeros(100)\n",
    "\n",
    "for n in 1:100\n",
    "    start_time = time_ns()\n",
    "    p = x^n \n",
    "    p*q\n",
    "    end_time = time_ns()\n",
    "    times[n] = Int(end_time - start_time)/10^6\n",
    "end\n",
    "\n",
    "p1 = plot(1:100, times)\n",
    "\n",
    "y = x_polysparse()\n",
    "u = y^5\n",
    "\n",
    "times1 = zeros(100)\n",
    "\n",
    "for n in 1:100\n",
    "    start_time = time_ns()\n",
    "    p = y^n \n",
    "    p*u\n",
    "    end_time = time_ns()\n",
    "    times1[n] = Int(end_time - start_time)/10^6\n",
    "end\n",
    "\n",
    "p2 = plot!(1:100, times1)\n",
    "    "
   ]
  },
  {
   "cell_type": "markdown",
   "metadata": {},
   "source": [
    "As seen in the plot, multiplying polynomials with large degrees is much more efficient with PolynomialSparse. Moreover....\n",
    "\n",
    "However, one advantage of PolynomialDense is that its implementation is much more simple than that of PolynomialSparse. "
   ]
  }
 ],
 "metadata": {
  "kernelspec": {
   "display_name": "Julia 1.9.2",
   "language": "julia",
   "name": "julia-1.9"
  },
  "language_info": {
   "file_extension": ".jl",
   "mimetype": "application/julia",
   "name": "julia",
   "version": "1.9.2"
  },
  "orig_nbformat": 4
 },
 "nbformat": 4,
 "nbformat_minor": 2
}
