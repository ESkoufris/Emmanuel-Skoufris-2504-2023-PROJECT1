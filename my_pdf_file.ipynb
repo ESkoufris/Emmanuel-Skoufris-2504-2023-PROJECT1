{
 "cells": [
  {
   "cell_type": "markdown",
   "metadata": {},
   "source": [
    "# MATH2504 Project 1 - 2023"
   ]
  },
  {
   "cell_type": "markdown",
   "metadata": {},
   "source": [
    "## Emmanuel Skoufris - 46388078 "
   ]
  },
  {
   "cell_type": "markdown",
   "metadata": {},
   "source": [
    "GitHub repository for this project: https://github.com/ESkoufris/Emmanuel-Skoufris-2504-2023-PROJECT1.git"
   ]
  },
  {
   "cell_type": "markdown",
   "metadata": {},
   "source": [
    "### Tests"
   ]
  },
  {
   "cell_type": "code",
   "execution_count": 3,
   "metadata": {},
   "outputs": [
    {
     "name": "stderr",
     "output_type": "stream",
     "text": [
      "\u001b[32m\u001b[1m  Activating\u001b[22m\u001b[39m project at `c:\\Users\\skouf\\Documents\\2023\\Semester 2\\MATH2504\\Assessment\\Project1\\Emmanuel-Skoufris-2504-2023-PROJECT1`"
     ]
    },
    {
     "name": "stdout",
     "output_type": "stream",
     "text": [
      "10\t25\t35\t\n"
     ]
    },
    {
     "name": "stderr",
     "output_type": "stream",
     "text": [
      "\n"
     ]
    },
    {
     "name": "stdout",
     "output_type": "stream",
     "text": [
      "(i, value) = (10, \"kbwcr\")"
     ]
    },
    {
     "name": "stdout",
     "output_type": "stream",
     "text": [
      "\n",
      "(i, value) = (20, \"dcsha\")\n",
      "(i, value) = (30, \"oxgil\")\n",
      "(i, value) = (40, \"xteol\")\n",
      "(i, value) = (50, \"amqcl\")\n",
      "(i, value) = (60, \"olqwn\")\n",
      "(i, value) = (70, \"tdcjf\")\n",
      "(i, value) = (80, \"dxksw\")\n",
      "(i, value) = (90, \"yvzkb\")\n",
      "(i, value) = (100, \"qbimw\")\n",
      "l = MutableLinkedList{String}(amqcl, dcsha, dxksw, kbwcr, olqwn, oxgil, qbimw, tdcjf, xteol, yvzkb)\n",
      "d[50] = DataStructures.ListNode{String}(amqcl)\n",
      "d[90] = DataStructures.ListNode{String}(yvzkb)\n",
      "get_element(l, d, 50) = \"amqcl\"\n",
      "l = MutableLinkedList{String}(dcsha, dxksw, kbwcr, olqwn, oxgil, qbimw, tdcjf, xteol, yvzkb)\n"
     ]
    },
    {
     "name": "stdout",
     "output_type": "stream",
     "text": [
      "length(l) = 9\n",
      "get_element(l, d, 50) = nothing\n",
      "get_next_element(l, d, 90) = nothing\n",
      "get_element(l, d, 40) = \"xteol\"\n",
      "get_next_element(l, d, 40) = \"yvzkb\"\n"
     ]
    },
    {
     "name": "stderr",
     "output_type": "stream",
     "text": [
      "\u001b[32m\u001b[1m  Activating\u001b[22m\u001b[39m project at `c:\\Users\\skouf\\Documents\\2023\\Semester 2\\MATH2504\\Assessment\\Project1\\Emmanuel-Skoufris-2504-2023-PROJECT1`\n"
     ]
    }
   ],
   "source": [
    "using Pkg\n",
    "Pkg.activate(\".\")\n",
    "\n",
    "include(\"poly_factorization_project.jl\")"
   ]
  },
  {
   "cell_type": "code",
   "execution_count": 15,
   "metadata": {},
   "outputs": [
    {
     "name": "stderr",
     "output_type": "stream",
     "text": [
      "\u001b[32m\u001b[1m  Activating\u001b[22m\u001b[39m project at `c:\\Users\\skouf\\Documents\\2023\\Semester 2\\MATH2504\\Assessment\\Project1\\Emmanuel-Skoufris-2504-2023-PROJECT1`"
     ]
    },
    {
     "name": "stdout",
     "output_type": "stream",
     "text": [
      "test_euclid_ints - PASSED\n",
      "test_ext_euclid_ints - PASSED\n"
     ]
    },
    {
     "name": "stderr",
     "output_type": "stream",
     "text": [
      "\n"
     ]
    },
    {
     "name": "stdout",
     "output_type": "stream",
     "text": [
      "prod_test_poly - PASSED\n",
      "prod_derivative_test_poly - PASSED\n"
     ]
    },
    {
     "name": "stdout",
     "output_type": "stream",
     "text": [
      "ext_euclid_test_poly - PASSED\n"
     ]
    },
    {
     "name": "stdout",
     "output_type": "stream",
     "text": [
      "division_test_poly - PASSED\n"
     ]
    },
    {
     "name": "stdout",
     "output_type": "stream",
     "text": [
      "\n",
      "doing prime = 5 \t.."
     ]
    },
    {
     "name": "stdout",
     "output_type": "stream",
     "text": [
      "..."
     ]
    },
    {
     "name": "stdout",
     "output_type": "stream",
     "text": [
      ".....\n",
      "doing prime = 17 \t.."
     ]
    },
    {
     "name": "stdout",
     "output_type": "stream",
     "text": [
      "."
     ]
    },
    {
     "name": "stdout",
     "output_type": "stream",
     "text": [
      ".."
     ]
    },
    {
     "name": "stdout",
     "output_type": "stream",
     "text": [
      ".."
     ]
    },
    {
     "name": "stdout",
     "output_type": "stream",
     "text": [
      "."
     ]
    },
    {
     "name": "stdout",
     "output_type": "stream",
     "text": [
      "..\n",
      "doing prime = 19 \t.."
     ]
    },
    {
     "name": "stdout",
     "output_type": "stream",
     "text": [
      ".."
     ]
    },
    {
     "name": "stdout",
     "output_type": "stream",
     "text": [
      "."
     ]
    },
    {
     "name": "stdout",
     "output_type": "stream",
     "text": [
      "....."
     ]
    },
    {
     "name": "stdout",
     "output_type": "stream",
     "text": [
      "\n",
      "factor_test_poly - PASSED\n"
     ]
    }
   ],
   "source": [
    "\n",
    "\n",
    "####\n",
    "# Execute unit tests for integers\n",
    "###\n",
    "include(\"test/integers_test.jl\")\n",
    "test_euclid_ints()\n",
    "test_ext_euclid_ints()\n",
    "\n",
    "####\n",
    "# Execute unit tests for polynomials\n",
    "####\n",
    "include(\"test/polynomials_test.jl\")\n",
    "prod_test_poly()\n",
    "prod_derivative_test_poly()\n",
    "ext_euclid_test_poly()\n",
    "division_test_poly()\n",
    "\n",
    "####\n",
    "# Execute unit tests for polynomial factorization\n",
    "####\n",
    "include(\"test/factorization_test.jl\")\n",
    "factor_test_poly()"
   ]
  },
  {
   "cell_type": "markdown",
   "metadata": {},
   "source": [
    "## Task 1"
   ]
  },
  {
   "cell_type": "markdown",
   "metadata": {},
   "source": [
    "### Example script 2"
   ]
  },
  {
   "cell_type": "markdown",
   "metadata": {},
   "source": [
    "### Pretty printing "
   ]
  },
  {
   "cell_type": "markdown",
   "metadata": {},
   "source": [
    "I created a 'superscript' function that prints a number in superscript using Unicode."
   ]
  },
  {
   "cell_type": "code",
   "execution_count": null,
   "metadata": {},
   "outputs": [],
   "source": [
    "function superscript(n::Int)\n",
    "\n",
    "    digit_to_unicode = Dict(\n",
    "        '0' => 0x2070,\n",
    "        '1' => 0x00B9,\n",
    "        '2' => 0x00B2,\n",
    "        '3' => 0x00B3,\n",
    "        '4' => 0x2074,\n",
    "        '5' => 0x2075,\n",
    "        '6' => 0x2076,\n",
    "        '7' => 0x2077,\n",
    "        '8' => 0x2078,\n",
    "        '9' => 0x2079 \n",
    "    )\n",
    "\n",
    "    n_str = string(n)\n",
    "\n",
    "    unicode_str = \"\"\n",
    "\n",
    "    for i in n_str\n",
    "        unicode_digit = Char(digit_to_unicode[i])\n",
    "        unicode_str *= unicode_digit\n",
    "    end\n",
    "\n",
    "    return unicode_str\n",
    "end"
   ]
  },
  {
   "cell_type": "markdown",
   "metadata": {},
   "source": [
    "I then altered the show function for individual polynomial terms. "
   ]
  },
  {
   "cell_type": "code",
   "execution_count": null,
   "metadata": {},
   "outputs": [],
   "source": [
    "function show(io::IO, t::Term)  \n",
    "\n",
    "    iszero(t.coeff) && return print(io,\"0\")\n",
    "    iszero(t.degree) && return print(io,t.coeff)\n",
    "\n",
    "    if abs(t.coeff) == 1\n",
    "        print(io, t.coeff == 1 ? \"x\" : \"-x\", t.degree == 1 ? \"\" : superscript(t.degree)) \n",
    "    else \n",
    "        print(io, \"$(t.coeff)x\", t.degree == 1 ? \"\" : superscript(t.degree))\n",
    "    end\n",
    "    \n",
    "end"
   ]
  },
  {
   "cell_type": "markdown",
   "metadata": {},
   "source": [
    "Finally, I altered the show function for polynomials. "
   ]
  },
  {
   "cell_type": "code",
   "execution_count": null,
   "metadata": {},
   "outputs": [],
   "source": [
    "# By default, print from highest to lowest powers. \n",
    "global lowest_to_highest = false\n",
    "\n",
    "# modified show for polynomials  \n",
    "function show(io::IO, p::Polynomial) \n",
    "\n",
    "    if iszero(p)\n",
    "        print(io,\"0\")\n",
    "    else\n",
    "        n = length(p.terms)\n",
    "        (hasproperty(Main, :lowest_to_highest) && lowest_to_highest) ?  p_terms = p.terms  : p_terms = reverse(p.terms)\n",
    "        for (i,t) in enumerate([y for y in p_terms if !iszero(y)])\n",
    "            print(io, i==1 ? \"$t\" : (t.coeff ≥ 0 ? \" + $t\" : \" - $(-t)\"))\n",
    "        end\n",
    "    end\n",
    "    \n",
    "end"
   ]
  },
  {
   "cell_type": "code",
   "execution_count": 17,
   "metadata": {},
   "outputs": [
    {
     "name": "stdout",
     "output_type": "stream",
     "text": [
      "400x⁴ - 5x³ + x² - x"
     ]
    }
   ],
   "source": [
    "x = x_poly();\n",
    "\n",
    "print(x^2 - 5x^3 - x + 0*x^6 + 400x^4)"
   ]
  },
  {
   "cell_type": "markdown",
   "metadata": {},
   "source": [
    "## Task 2"
   ]
  },
  {
   "cell_type": "code",
   "execution_count": 4,
   "metadata": {},
   "outputs": [
    {
     "name": "stderr",
     "output_type": "stream",
     "text": [
      "\u001b[32m\u001b[1m  Activating\u001b[22m\u001b[39m project at `c:\\Users\\skouf\\Documents\\2023\\Semester 2\\MATH2504\\Assessment\\Project1\\Emmanuel-Skoufris-2504-2023-PROJECT1`\n"
     ]
    },
    {
     "data": {
      "text/plain": [
       "Dict{Int64, DataStructures.ListNode{Term}} with 1 entry:\n",
       "  1 => DataStructures.ListNode{Term}(x)"
      ]
     },
     "metadata": {},
     "output_type": "display_data"
    }
   ],
   "source": [
    "include(\"src/polynomial_sparse.jl\")\n",
    "\n",
    "x_polysparse().dict"
   ]
  }
 ],
 "metadata": {
  "kernelspec": {
   "display_name": "Julia 1.9.2",
   "language": "julia",
   "name": "julia-1.9"
  },
  "language_info": {
   "file_extension": ".jl",
   "mimetype": "application/julia",
   "name": "julia",
   "version": "1.9.2"
  },
  "orig_nbformat": 4
 },
 "nbformat": 4,
 "nbformat_minor": 2
}
